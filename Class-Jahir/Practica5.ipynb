{
 "cells": [
  {
   "cell_type": "code",
   "execution_count": 1,
   "metadata": {},
   "outputs": [],
   "source": [
    "import pandas as pd\n",
    "import numpy as np\n",
    "\n",
    "import matplotlib as m_plt\n",
    "from matplotlib import pyplot as plt\n",
    "import matplotlib.mlab as mlabQ\n",
    "\n",
    "import seaborn as sns\n",
    "\n",
    "from copy import copy\n",
    "from pprint import pprint\n",
    "\n",
    "import sys\n",
    "import os\n",
    "\n",
    "import personal_plotter as p_plt"
   ]
  },
  {
   "cell_type": "markdown",
   "metadata": {
    "hideCode": false,
    "hidePrompt": false
   },
   "source": [
    "# Practica V - Data Exploration Part 5\n",
    "\n",
    "Desbalanceamento dos Dados\n",
    "_ _ _\n",
    "___\n",
    "_ _ _\n",
    "\n",
    "\n",
    "## 1.- Data - Boston House Pricing\n",
    "\n",
    "### 1.1.- Retrieving Data\n",
    "\n",
    "#### 1.1.1.- Reading Data"
   ]
  },
  {
   "cell_type": "code",
   "execution_count": 2,
   "metadata": {
    "hideCode": false,
    "hidePrompt": false
   },
   "outputs": [
    {
     "name": "stdout",
     "output_type": "stream",
     "text": [
      "DATA SUCCESSFULLY LOADED\n",
      "\n",
      "    \tRows\t:\t506\t|\tColumns\t:\t14\n"
     ]
    }
   ],
   "source": [
    "try :\n",
    "    boston_dataset = pd.read_csv(\"./boston/housing.data\", sep=\"\\t\", header=None)\n",
    "    boston_dataset.columns = [\"CRIM\", \"ZN\", \"INDUS\", \"CHAS\", \"NOX\", \"RM\", \"AGE\", \"DIS\", \"RAD\", \"TAX\", \"PTRATIO\", \"B\", \"LSTAT\", \"MEDV\"]\n",
    "except:\n",
    "    print(\"ERROR, DATA NOT LOADED\")\n",
    "else:\n",
    "    print(\"\"\"DATA SUCCESSFULLY LOADED\\n\n",
    "    \\tRows\\t:\\t{:d}\\t|\\tColumns\\t:\\t{:d}\"\"\".format(boston_dataset.shape[0], boston_dataset.shape[1]))"
   ]
  },
  {
   "cell_type": "markdown",
   "metadata": {
    "hideCode": false,
    "hidePrompt": false
   },
   "source": [
    "#### 1.1.2.- Data Labels\n",
    "0. **CRIM**      :  *per capita crime rate by town*\n",
    "2. **ZN**        :  *proportion of residential land zoned for lots over 25,000 sq.ft.*\n",
    "3. **INDUS**     :  *proportion of non-retail business acres per town*\n",
    "4. **CHAS**      :  *Charles River dummy variable (= 1 if tract bounds river; 0 otherwise)*\n",
    "5. **NOX**       :  *nitric oxides concentration (parts per 10 million)*\n",
    "6. **RM**        :  *average number of rooms per dwelling*\n",
    "7. **AGE**       :  *proportion of owner-occupied units built prior to 1940*\n",
    "8. **DIS**       :  *weighted distances to five Boston employment centres*\n",
    "9. **RAD**       :  *index of accessibility to radial highways*\n",
    "10. **TAX**      :  *full-value property-tax rate per \\$10 000*\n",
    "11. **PTRATIO**  :  *pupil-teacher ratio by town*\n",
    "12. **B**        :  *1000(Bk - 0.63)^2 where Bk is the proportion of blacks by town*\n",
    "13. **LSTAT**    :  *\\% lower status of the population*\n",
    "14. **MEDV**     :  *Median value of owner-occupied homes in \\$1000's*"
   ]
  },
  {
   "cell_type": "markdown",
   "metadata": {},
   "source": [
    "#### 1.1.3.- Basic Data Exploration"
   ]
  },
  {
   "cell_type": "code",
   "execution_count": 3,
   "metadata": {
    "hideCode": false,
    "hidePrompt": false
   },
   "outputs": [
    {
     "data": {
      "text/html": [
       "<div>\n",
       "<style scoped>\n",
       "    .dataframe tbody tr th:only-of-type {\n",
       "        vertical-align: middle;\n",
       "    }\n",
       "\n",
       "    .dataframe tbody tr th {\n",
       "        vertical-align: top;\n",
       "    }\n",
       "\n",
       "    .dataframe thead th {\n",
       "        text-align: right;\n",
       "    }\n",
       "</style>\n",
       "<table border=\"1\" class=\"dataframe\">\n",
       "  <thead>\n",
       "    <tr style=\"text-align: right;\">\n",
       "      <th></th>\n",
       "      <th>CRIM</th>\n",
       "      <th>ZN</th>\n",
       "      <th>INDUS</th>\n",
       "      <th>CHAS</th>\n",
       "      <th>NOX</th>\n",
       "      <th>RM</th>\n",
       "      <th>AGE</th>\n",
       "      <th>DIS</th>\n",
       "      <th>RAD</th>\n",
       "      <th>TAX</th>\n",
       "      <th>PTRATIO</th>\n",
       "      <th>B</th>\n",
       "      <th>LSTAT</th>\n",
       "      <th>MEDV</th>\n",
       "    </tr>\n",
       "  </thead>\n",
       "  <tbody>\n",
       "    <tr>\n",
       "      <th>501</th>\n",
       "      <td>0.06263</td>\n",
       "      <td>0.0</td>\n",
       "      <td>11.93</td>\n",
       "      <td>0</td>\n",
       "      <td>0.573</td>\n",
       "      <td>6.593</td>\n",
       "      <td>69.1</td>\n",
       "      <td>2.4786</td>\n",
       "      <td>1</td>\n",
       "      <td>273.0</td>\n",
       "      <td>21.0</td>\n",
       "      <td>391.99</td>\n",
       "      <td>9.67</td>\n",
       "      <td>22.4</td>\n",
       "    </tr>\n",
       "    <tr>\n",
       "      <th>502</th>\n",
       "      <td>0.04527</td>\n",
       "      <td>0.0</td>\n",
       "      <td>11.93</td>\n",
       "      <td>0</td>\n",
       "      <td>0.573</td>\n",
       "      <td>6.120</td>\n",
       "      <td>76.7</td>\n",
       "      <td>2.2875</td>\n",
       "      <td>1</td>\n",
       "      <td>273.0</td>\n",
       "      <td>21.0</td>\n",
       "      <td>396.90</td>\n",
       "      <td>9.08</td>\n",
       "      <td>20.6</td>\n",
       "    </tr>\n",
       "    <tr>\n",
       "      <th>503</th>\n",
       "      <td>0.06076</td>\n",
       "      <td>0.0</td>\n",
       "      <td>11.93</td>\n",
       "      <td>0</td>\n",
       "      <td>0.573</td>\n",
       "      <td>6.976</td>\n",
       "      <td>91.0</td>\n",
       "      <td>2.1675</td>\n",
       "      <td>1</td>\n",
       "      <td>273.0</td>\n",
       "      <td>21.0</td>\n",
       "      <td>396.90</td>\n",
       "      <td>5.64</td>\n",
       "      <td>23.9</td>\n",
       "    </tr>\n",
       "    <tr>\n",
       "      <th>504</th>\n",
       "      <td>0.10959</td>\n",
       "      <td>0.0</td>\n",
       "      <td>11.93</td>\n",
       "      <td>0</td>\n",
       "      <td>0.573</td>\n",
       "      <td>6.794</td>\n",
       "      <td>89.3</td>\n",
       "      <td>2.3889</td>\n",
       "      <td>1</td>\n",
       "      <td>273.0</td>\n",
       "      <td>21.0</td>\n",
       "      <td>393.45</td>\n",
       "      <td>6.48</td>\n",
       "      <td>22.0</td>\n",
       "    </tr>\n",
       "    <tr>\n",
       "      <th>505</th>\n",
       "      <td>0.04741</td>\n",
       "      <td>0.0</td>\n",
       "      <td>11.93</td>\n",
       "      <td>0</td>\n",
       "      <td>0.573</td>\n",
       "      <td>6.030</td>\n",
       "      <td>80.8</td>\n",
       "      <td>2.5050</td>\n",
       "      <td>1</td>\n",
       "      <td>273.0</td>\n",
       "      <td>21.0</td>\n",
       "      <td>396.90</td>\n",
       "      <td>7.88</td>\n",
       "      <td>11.9</td>\n",
       "    </tr>\n",
       "  </tbody>\n",
       "</table>\n",
       "</div>"
      ],
      "text/plain": [
       "        CRIM   ZN  INDUS  CHAS    NOX     RM   AGE     DIS  RAD    TAX  \\\n",
       "501  0.06263  0.0  11.93     0  0.573  6.593  69.1  2.4786    1  273.0   \n",
       "502  0.04527  0.0  11.93     0  0.573  6.120  76.7  2.2875    1  273.0   \n",
       "503  0.06076  0.0  11.93     0  0.573  6.976  91.0  2.1675    1  273.0   \n",
       "504  0.10959  0.0  11.93     0  0.573  6.794  89.3  2.3889    1  273.0   \n",
       "505  0.04741  0.0  11.93     0  0.573  6.030  80.8  2.5050    1  273.0   \n",
       "\n",
       "     PTRATIO       B  LSTAT  MEDV  \n",
       "501     21.0  391.99   9.67  22.4  \n",
       "502     21.0  396.90   9.08  20.6  \n",
       "503     21.0  396.90   5.64  23.9  \n",
       "504     21.0  393.45   6.48  22.0  \n",
       "505     21.0  396.90   7.88  11.9  "
      ]
     },
     "execution_count": 3,
     "metadata": {},
     "output_type": "execute_result"
    }
   ],
   "source": [
    "boston_dataset.tail()"
   ]
  },
  {
   "cell_type": "code",
   "execution_count": 4,
   "metadata": {},
   "outputs": [],
   "source": [
    "case_data_Boston = boston_dataset.copy()"
   ]
  },
  {
   "cell_type": "markdown",
   "metadata": {},
   "source": [
    "### 1.2 Atributes Conversion\n",
    "\n",
    "#### 1.2.1.- Less Significative Values\n",
    "\n",
    "sao os valores que tem a menor quantidade de valores diferentes dado o rango deles."
   ]
  },
  {
   "cell_type": "code",
   "execution_count": 5,
   "metadata": {},
   "outputs": [
    {
     "data": {
      "text/html": [
       "<div>\n",
       "<style scoped>\n",
       "    .dataframe tbody tr th:only-of-type {\n",
       "        vertical-align: middle;\n",
       "    }\n",
       "\n",
       "    .dataframe tbody tr th {\n",
       "        vertical-align: top;\n",
       "    }\n",
       "\n",
       "    .dataframe thead th {\n",
       "        text-align: right;\n",
       "    }\n",
       "</style>\n",
       "<table border=\"1\" class=\"dataframe\">\n",
       "  <thead>\n",
       "    <tr style=\"text-align: right;\">\n",
       "      <th></th>\n",
       "      <th>CHAS</th>\n",
       "      <th>NOX</th>\n",
       "    </tr>\n",
       "  </thead>\n",
       "  <tbody>\n",
       "    <tr>\n",
       "      <th>count</th>\n",
       "      <td>506.000000</td>\n",
       "      <td>506.000000</td>\n",
       "    </tr>\n",
       "    <tr>\n",
       "      <th>mean</th>\n",
       "      <td>0.069170</td>\n",
       "      <td>0.554695</td>\n",
       "    </tr>\n",
       "    <tr>\n",
       "      <th>std</th>\n",
       "      <td>0.253994</td>\n",
       "      <td>0.115878</td>\n",
       "    </tr>\n",
       "    <tr>\n",
       "      <th>min</th>\n",
       "      <td>0.000000</td>\n",
       "      <td>0.385000</td>\n",
       "    </tr>\n",
       "    <tr>\n",
       "      <th>25%</th>\n",
       "      <td>0.000000</td>\n",
       "      <td>0.449000</td>\n",
       "    </tr>\n",
       "    <tr>\n",
       "      <th>50%</th>\n",
       "      <td>0.000000</td>\n",
       "      <td>0.538000</td>\n",
       "    </tr>\n",
       "    <tr>\n",
       "      <th>75%</th>\n",
       "      <td>0.000000</td>\n",
       "      <td>0.624000</td>\n",
       "    </tr>\n",
       "    <tr>\n",
       "      <th>max</th>\n",
       "      <td>1.000000</td>\n",
       "      <td>0.871000</td>\n",
       "    </tr>\n",
       "  </tbody>\n",
       "</table>\n",
       "</div>"
      ],
      "text/plain": [
       "             CHAS         NOX\n",
       "count  506.000000  506.000000\n",
       "mean     0.069170    0.554695\n",
       "std      0.253994    0.115878\n",
       "min      0.000000    0.385000\n",
       "25%      0.000000    0.449000\n",
       "50%      0.000000    0.538000\n",
       "75%      0.000000    0.624000\n",
       "max      1.000000    0.871000"
      ]
     },
     "execution_count": 5,
     "metadata": {},
     "output_type": "execute_result"
    }
   ],
   "source": [
    "sampling_span = case_data_Boston.max() - case_data_Boston.min() <= 1\n",
    "case_data_Boston[sampling_span[sampling_span == True].index.tolist()].describe()"
   ]
  },
  {
   "cell_type": "code",
   "execution_count": 6,
   "metadata": {},
   "outputs": [
    {
     "data": {
      "image/png": "[encoded data removed]",
      "text/plain": [
       "<Figure size 432x288 with 1 Axes>"
      ]
     },
     "metadata": {},
     "output_type": "display_data"
    },
    {
     "data": {
      "text/plain": [
       "0    471\n",
       "1     35\n",
       "Name: CHAS, dtype: int64"
      ]
     },
     "metadata": {},
     "output_type": "display_data"
    },
    {
     "data": {
      "text/plain": [
       "0    93.083004\n",
       "1     6.916996\n",
       "Name: CHAS, dtype: float64"
      ]
     },
     "metadata": {},
     "output_type": "display_data"
    },
    {
     "data": {
      "image/png": "[encoded data removed]",
      "text/plain": [
       "<Figure size 432x288 with 1 Axes>"
      ]
     },
     "metadata": {},
     "output_type": "display_data"
    },
    {
     "name": "stdout",
     "output_type": "stream",
     "text": [
      "tail() of nox\n"
     ]
    },
    {
     "data": {
      "text/plain": [
       "0.385    1\n",
       "0.394    1\n",
       "0.518    1\n",
       "0.422    1\n",
       "0.389    1\n",
       "Name: NOX, dtype: int64"
      ]
     },
     "metadata": {},
     "output_type": "display_data"
    },
    {
     "data": {
      "text/plain": [
       "0.385    0.001976\n",
       "0.394    0.001976\n",
       "0.518    0.001976\n",
       "0.422    0.001976\n",
       "0.389    0.001976\n",
       "Name: NOX, dtype: float64"
      ]
     },
     "metadata": {},
     "output_type": "display_data"
    }
   ],
   "source": [
    "# plt.subplot(2,1,1)\n",
    "case_data_Boston.CHAS.plot.hist()\n",
    "plt.show()\n",
    "\n",
    "d__ = case_data_Boston.CHAS\n",
    "display(d__.value_counts())\n",
    "display((d__.value_counts() / d__.value_counts().sum()) * 100)\n",
    "\n",
    "######\n",
    "\n",
    "# plt.subplot(2,1,2)\n",
    "case_data_Boston.NOX.plot.hist()\n",
    "plt.show()\n",
    "\n",
    "d__ = case_data_Boston.NOX\n",
    "print(\"tail() of nox\")\n",
    "display(d__.value_counts().tail())\n",
    "display((d__.value_counts() / d__.value_counts().sum()).tail())"
   ]
  },
  {
   "cell_type": "markdown",
   "metadata": {},
   "source": [
    "1. *CHAS* e uma variable binaria (0 or 1), por conta disso, saber que a classe (1) apresenta so o 0.5% do total das mostras, resulta insignificante.\n",
    "\n",
    "2. *NOX* is a representation in Parts per 10 Million (1e7), por lo que ter um rango de valores inferior a 1 e aceitavel\n",
    "\n",
    "**CHAS e relevante como variavel?**"
   ]
  },
  {
   "cell_type": "code",
   "execution_count": 7,
   "metadata": {
    "scrolled": false
   },
   "outputs": [
    {
     "name": "stdout",
     "output_type": "stream",
     "text": [
      "CHAS CORRELATION\n"
     ]
    },
    {
     "data": {
      "image/png": "[encoded data removed]",
      "text/plain": [
       "<Figure size 720x216 with 1 Axes>"
      ]
     },
     "metadata": {},
     "output_type": "display_data"
    },
    {
     "name": "stdout",
     "output_type": "stream",
     "text": [
      "PCA\n"
     ]
    },
    {
     "data": {
      "text/html": [
       "<div>\n",
       "<style scoped>\n",
       "    .dataframe tbody tr th:only-of-type {\n",
       "        vertical-align: middle;\n",
       "    }\n",
       "\n",
       "    .dataframe tbody tr th {\n",
       "        vertical-align: top;\n",
       "    }\n",
       "\n",
       "    .dataframe thead th {\n",
       "        text-align: right;\n",
       "    }\n",
       "</style>\n",
       "<table border=\"1\" class=\"dataframe\">\n",
       "  <thead>\n",
       "    <tr style=\"text-align: right;\">\n",
       "      <th></th>\n",
       "      <th>relevance</th>\n",
       "    </tr>\n",
       "  </thead>\n",
       "  <tbody>\n",
       "    <tr>\n",
       "      <th>CHAS</th>\n",
       "      <td>6.332428</td>\n",
       "    </tr>\n",
       "  </tbody>\n",
       "</table>\n",
       "</div>"
      ],
      "text/plain": [
       "      relevance\n",
       "CHAS   6.332428"
      ]
     },
     "metadata": {},
     "output_type": "display_data"
    }
   ],
   "source": [
    "print(\"CHAS CORRELATION\")\n",
    "\n",
    "corr__ = case_data_Boston.corr(method='pearson', min_periods=1)\n",
    "\n",
    "alt_corr__ = corr__.CHAS[corr__.CHAS.index != 'CHAS']\n",
    "\n",
    "plt.figure(figsize=(10,3))\n",
    "plt.plot(alt_corr__, \"or\")\n",
    "plt.plot(alt_corr__, \"--g\")\n",
    "plt.plot(np.zeros(alt_corr__.shape[0]), \"-b\")\n",
    "plt.show()\n",
    "\n",
    "print(\"PCA\")\n",
    "t__ = (case_data_Boston - case_data_Boston.mean()) / case_data_Boston.std()\n",
    "\n",
    "eigvals, _ = np.linalg.eig(t__.cov().values)\n",
    "rel_ = pd.DataFrame(eigvals, columns=[\"relevance\"])\n",
    "rel_.index = t__.columns.tolist()\n",
    "\n",
    "rel_.sort_values(by=\"relevance\", inplace=True, ascending=False)\n",
    "\n",
    "rel_ = (rel_ / rel_.sum()) * 100\n",
    "\n",
    "display(rel_[rel_.index == 'CHAS'])"
   ]
  },
  {
   "cell_type": "markdown",
   "metadata": {},
   "source": [
    "ele tem baixa correlacao com as outras variavels (perto do 0), mas ao momento de fazer o PCA, o fato dela ter um 6% de aportacao na varianca e suficiente para escolher nao fazer um re-balanceamento da variabel, neste caso, realizar um sub-amostragem e uma boa idea, mas antes, se tem que analizar os targets.\n",
    "\n",
    "#### 1.2.2.- Making and Converting Targets\n",
    "\n",
    "o atributo ***MEDV*** sera nosso atributo objetivo, mas ele e um atributo continuo, alem de quantitativo, se tera que mudar a um atributo qualitativo e discreto"
   ]
  },
  {
   "cell_type": "code",
   "execution_count": 8,
   "metadata": {},
   "outputs": [
    {
     "data": {
      "text/plain": [
       "High    170\n",
       "Low     169\n",
       "Med     167\n",
       "Name: target, dtype: int64"
      ]
     },
     "execution_count": 8,
     "metadata": {},
     "output_type": "execute_result"
    }
   ],
   "source": [
    "targets = p_plt.make_targets(case_data_Boston.MEDV, samples=3, labels=[\"Low\", \"Med\", \"High\"])\n",
    "\n",
    "case_data_Boston.drop(columns=[\"MEDV\"], inplace=True)\n",
    "case_data_Boston[\"target\"] = targets\n",
    "\n",
    "case_data_Boston.target.value_counts()"
   ]
  },
  {
   "cell_type": "markdown",
   "metadata": {},
   "source": [
    "as clases estao balanceadas (quase 1/3 - 1/3 - 1/3)\n",
    "\n",
    "**pode se realizar um sub-amostragem e deletar as mostras onde o atributo CHAS e 0?**\n",
    "\n",
    "para ter certca de que , ao momento de deletar essa mostras o espacio de dados nao muda (significativamente), e importante conhecer se as mostras tem quase a mesma distribucao de probabilidades no atributo **target** (representando assim um sub-espacio semejante)"
   ]
  },
  {
   "cell_type": "code",
   "execution_count": 9,
   "metadata": {},
   "outputs": [
    {
     "data": {
      "text/plain": [
       "High    17\n",
       "Med     12\n",
       "Low      6\n",
       "Name: target, dtype: int64"
      ]
     },
     "execution_count": 9,
     "metadata": {},
     "output_type": "execute_result"
    }
   ],
   "source": [
    "case_data_Boston[case_data_Boston.CHAS == 1].target.value_counts()"
   ]
  },
  {
   "cell_type": "markdown",
   "metadata": {},
   "source": [
    "\\'e imposivel deletar essas mostras, elas tem uma distribucao de probabilidades muito similar"
   ]
  },
  {
   "cell_type": "markdown",
   "metadata": {},
   "source": [
    "#### 1.2.3.- Normalization"
   ]
  },
  {
   "cell_type": "code",
   "execution_count": 10,
   "metadata": {
    "scrolled": false
   },
   "outputs": [],
   "source": [
    "target = case_data_Boston.target.copy()\n",
    "case_data_Boston.drop(columns=[\"target\"], inplace=True)"
   ]
  },
  {
   "cell_type": "markdown",
   "metadata": {},
   "source": [
    "##### 1.2.3.1.- Max Possible Range in-between Values\n",
    "\n",
    "normalizacao das columnas **TAX e B** , fazendo uso do \\[0-1\\] method."
   ]
  },
  {
   "cell_type": "code",
   "execution_count": 11,
   "metadata": {},
   "outputs": [
    {
     "data": {
      "text/plain": [
       "<matplotlib.axes._subplots.AxesSubplot at 0x7f4dc61f4908>"
      ]
     },
     "execution_count": 11,
     "metadata": {},
     "output_type": "execute_result"
    },
    {
     "data": {
      "image/png": "[encoded data removed]",
      "text/plain": [
       "<Figure size 864x360 with 1 Axes>"
      ]
     },
     "metadata": {},
     "output_type": "display_data"
    }
   ],
   "source": [
    "case_data_Boston.boxplot(figsize=(12,5))"
   ]
  },
  {
   "cell_type": "code",
   "execution_count": 12,
   "metadata": {},
   "outputs": [
    {
     "data": {
      "image/png": "[encoded data removed]",
      "text/plain": [
       "<Figure size 720x144 with 1 Axes>"
      ]
     },
     "metadata": {},
     "output_type": "display_data"
    }
   ],
   "source": [
    "plt.figure(figsize=(10,2))\n",
    "plt.grid()\n",
    "plt.plot(case_data_Boston.max() - case_data_Boston.min(), \"or\")\n",
    "plt.show()"
   ]
  },
  {
   "cell_type": "code",
   "execution_count": 13,
   "metadata": {},
   "outputs": [
    {
     "data": {
      "image/png": "[encoded data removed]",
      "text/plain": [
       "<Figure size 720x144 with 1 Axes>"
      ]
     },
     "metadata": {},
     "output_type": "display_data"
    }
   ],
   "source": [
    "t__ = case_data_Boston.TAX\n",
    "t__ = (t__ - t__.min()) / (t__.max() - t__.min())\n",
    "t__ = t__ * 100\n",
    "case_data_Boston.TAX = t__.values.copy()\n",
    "\n",
    "t__ = case_data_Boston.B\n",
    "t__ = (t__ - t__.min()) / (t__.max() - t__.min())\n",
    "t__ = t__ * 100\n",
    "\n",
    "case_data_Boston.B = t__.values.copy()\n",
    "\n",
    "plt.figure(figsize=(10,2))\n",
    "plt.grid()\n",
    "plt.plot(case_data_Boston.max() - case_data_Boston.min(), \"or\")\n",
    "plt.show()"
   ]
  },
  {
   "cell_type": "code",
   "execution_count": 14,
   "metadata": {},
   "outputs": [
    {
     "data": {
      "text/plain": [
       "<matplotlib.axes._subplots.AxesSubplot at 0x7f4dc5f82e80>"
      ]
     },
     "execution_count": 14,
     "metadata": {},
     "output_type": "execute_result"
    },
    {
     "data": {
      "image/png": "[encoded data removed]",
      "text/plain": [
       "<Figure size 864x360 with 1 Axes>"
      ]
     },
     "metadata": {},
     "output_type": "display_data"
    }
   ],
   "source": [
    "case_data_Boston.boxplot(figsize=(12,5))"
   ]
  },
  {
   "cell_type": "markdown",
   "metadata": {},
   "source": [
    "##### 1.2.4.- Z - Score\n",
    "\n",
    "finalmente se aplica o z-score a todos os atributos do dataset"
   ]
  },
  {
   "cell_type": "code",
   "execution_count": 15,
   "metadata": {},
   "outputs": [
    {
     "data": {
      "text/plain": [
       "<matplotlib.axes._subplots.AxesSubplot at 0x7f4dc5d7e898>"
      ]
     },
     "execution_count": 15,
     "metadata": {},
     "output_type": "execute_result"
    },
    {
     "data": {
      "image/png": "[encoded data removed]",
      "text/plain": [
       "<Figure size 864x360 with 1 Axes>"
      ]
     },
     "metadata": {},
     "output_type": "display_data"
    }
   ],
   "source": [
    "case_data_Boston = (case_data_Boston - case_data_Boston.mean()) / case_data_Boston.std()\n",
    "case_data_Boston.boxplot(figsize=(12,5))"
   ]
  },
  {
   "cell_type": "markdown",
   "metadata": {},
   "source": [
    "### 1.3 Binarization and Prediction\n",
    "\n",
    "se escolho um **MLP** como tecnica de predicao, por isso o **target** debe de se binarizar, alem de ter os valors de entrada em forma normal (base normal)"
   ]
  },
  {
   "cell_type": "code",
   "execution_count": 16,
   "metadata": {},
   "outputs": [
    {
     "data": {
      "text/plain": [
       "array([[<matplotlib.axes._subplots.AxesSubplot object at 0x7f4dc5dd4e80>,\n",
       "        <matplotlib.axes._subplots.AxesSubplot object at 0x7f4dc5f190f0>,\n",
       "        <matplotlib.axes._subplots.AxesSubplot object at 0x7f4dc5f91b00>,\n",
       "        <matplotlib.axes._subplots.AxesSubplot object at 0x7f4dc6034f60>],\n",
       "       [<matplotlib.axes._subplots.AxesSubplot object at 0x7f4dc6146390>,\n",
       "        <matplotlib.axes._subplots.AxesSubplot object at 0x7f4dc6146470>,\n",
       "        <matplotlib.axes._subplots.AxesSubplot object at 0x7f4dcf509278>,\n",
       "        <matplotlib.axes._subplots.AxesSubplot object at 0x7f4dc61fceb8>],\n",
       "       [<matplotlib.axes._subplots.AxesSubplot object at 0x7f4dc5efe048>,\n",
       "        <matplotlib.axes._subplots.AxesSubplot object at 0x7f4dc622c6d8>,\n",
       "        <matplotlib.axes._subplots.AxesSubplot object at 0x7f4dc627ed68>,\n",
       "        <matplotlib.axes._subplots.AxesSubplot object at 0x7f4dc5f4df60>],\n",
       "       [<matplotlib.axes._subplots.AxesSubplot object at 0x7f4dc6192ac8>,\n",
       "        <matplotlib.axes._subplots.AxesSubplot object at 0x7f4dc5c0f198>,\n",
       "        <matplotlib.axes._subplots.AxesSubplot object at 0x7f4dc5bb7828>,\n",
       "        <matplotlib.axes._subplots.AxesSubplot object at 0x7f4dc5be0eb8>]],\n",
       "      dtype=object)"
      ]
     },
     "execution_count": 16,
     "metadata": {},
     "output_type": "execute_result"
    },
    {
     "data": {
      "image/png": "[encoded data removed]",
      "text/plain": [
       "<Figure size 720x720 with 16 Axes>"
      ]
     },
     "metadata": {},
     "output_type": "display_data"
    }
   ],
   "source": [
    "case_data_Boston.hist(figsize=(10,10))"
   ]
  },
  {
   "cell_type": "code",
   "execution_count": 17,
   "metadata": {},
   "outputs": [],
   "source": [
    "from sklearn.neural_network import MLPClassifier\n",
    "\n",
    "from sklearn.model_selection import train_test_split\n",
    "from sklearn.preprocessing import label_binarize\n",
    "\n",
    "from sklearn.metrics import accuracy_score\n",
    "from sklearn.metrics import confusion_matrix"
   ]
  },
  {
   "cell_type": "markdown",
   "metadata": {},
   "source": [
    "#### 1.3.1 Binarizing and Training\n",
    "\n",
    "##### 1.3.1.1 Normal Weigths"
   ]
  },
  {
   "cell_type": "code",
   "execution_count": 24,
   "metadata": {},
   "outputs": [
    {
     "name": "stderr",
     "output_type": "stream",
     "text": [
      "/home/ubuntu/anaconda3/lib/python3.6/site-packages/sklearn/neural_network/multilayer_perceptron.py:564: ConvergenceWarning: Stochastic Optimizer: Maximum iterations (200) reached and the optimization hasn't converged yet.\n",
      "  % self.max_iter, ConvergenceWarning)\n"
     ]
    }
   ],
   "source": [
    "## Binarizing\n",
    "\n",
    "normal_targets = label_binarize(target, classes=[\"Low\", \"Med\", \"High\"])\n",
    "\n",
    "x_train, x_test, y_train, y_test = train_test_split(case_data_Boston.values, normal_targets\n",
    "                                                    , test_size= 0.25)\n",
    "\n",
    "clf = MLPClassifier(hidden_layer_sizes=(10,6))\n",
    "\n",
    "clf.fit(x_train, y_train)\n",
    "y_pred = clf.predict(x_test)\n",
    "\n",
    "normal_pred = accuracy_score(y_test, y_pred)"
   ]
  },
  {
   "cell_type": "markdown",
   "metadata": {},
   "source": [
    "##### 1.3.1.2 Other Weigths"
   ]
  },
  {
   "cell_type": "code",
   "execution_count": 25,
   "metadata": {},
   "outputs": [
    {
     "name": "stdout",
     "output_type": "stream",
     "text": [
      "\n",
      "\n",
      "Fixando o número de exemplos por classe em 150\n"
     ]
    },
    {
     "data": {
      "text/plain": [
       "Med     150\n",
       "Low     150\n",
       "High    150\n",
       "Name: target, dtype: int64"
      ]
     },
     "execution_count": 25,
     "metadata": {},
     "output_type": "execute_result"
    }
   ],
   "source": [
    "dt_bl = [target.loc[target == c].sample(n=150, replace=True) for c in target.unique()]\n",
    "print('\\n\\nFixando o número de exemplos por classe em 150')\n",
    "dt_bl = pd.concat(dt_bl)\n",
    "dt_bl.value_counts()"
   ]
  },
  {
   "cell_type": "code",
   "execution_count": 26,
   "metadata": {},
   "outputs": [
    {
     "name": "stderr",
     "output_type": "stream",
     "text": [
      "/home/ubuntu/anaconda3/lib/python3.6/site-packages/sklearn/neural_network/multilayer_perceptron.py:564: ConvergenceWarning: Stochastic Optimizer: Maximum iterations (200) reached and the optimization hasn't converged yet.\n",
      "  % self.max_iter, ConvergenceWarning)\n"
     ]
    }
   ],
   "source": [
    "## Binarizing\n",
    "\n",
    "\n",
    "equal_targets = label_binarize(dt_bl, classes=[\"Low\", \"Med\", \"High\"])\n",
    "\n",
    "x_train, x_test, y_train, y_test = train_test_split(case_data_Boston.values, normal_targets\n",
    "                                                    , test_size= 0.25)\n",
    "\n",
    "clf = MLPClassifier(hidden_layer_sizes=(10,6))\n",
    "\n",
    "clf.fit(x_train, y_train)\n",
    "y_pred = clf.predict(x_test)\n",
    "\n",
    "equal_pred = accuracy_score(y_test, y_pred)"
   ]
  },
  {
   "cell_type": "code",
   "execution_count": 27,
   "metadata": {},
   "outputs": [
    {
     "name": "stdout",
     "output_type": "stream",
     "text": [
      "Fixando o numero de exemplos por classe seguindo as probabildades\n",
      "{'High': 0.6, 'Low': 0.15, 'Med': 0.35}\n"
     ]
    },
    {
     "data": {
      "text/plain": [
       "High    303\n",
       "Med     177\n",
       "Low      75\n",
       "Name: target, dtype: int64"
      ]
     },
     "execution_count": 27,
     "metadata": {},
     "output_type": "execute_result"
    }
   ],
   "source": [
    "prob = {\"Low\":0.15, \"Med\":0.35, \"High\":0.60}\n",
    "\n",
    "dt_bl = []\n",
    "for c in target.unique():\n",
    "    dt_bl += [target.loc[target == c].sample(n=int(target.count() * prob[c]), replace=True)]\n",
    "print(\"Fixando o numero de exemplos por classe seguindo as probabildades\")\n",
    "pprint(prob)\n",
    "dt_bl = pd.concat(dt_bl)\n",
    "dt_bl.value_counts()"
   ]
  },
  {
   "cell_type": "code",
   "execution_count": 28,
   "metadata": {},
   "outputs": [
    {
     "name": "stderr",
     "output_type": "stream",
     "text": [
      "/home/ubuntu/anaconda3/lib/python3.6/site-packages/sklearn/neural_network/multilayer_perceptron.py:564: ConvergenceWarning: Stochastic Optimizer: Maximum iterations (200) reached and the optimization hasn't converged yet.\n",
      "  % self.max_iter, ConvergenceWarning)\n"
     ]
    }
   ],
   "source": [
    "## Binarizing\n",
    "\n",
    "\n",
    "equal_targets = label_binarize(dt_bl, classes=[\"Low\", \"Med\", \"High\"])\n",
    "\n",
    "x_train, x_test, y_train, y_test = train_test_split(case_data_Boston.values, normal_targets\n",
    "                                                    , test_size= 0.25)\n",
    "\n",
    "clf = MLPClassifier(hidden_layer_sizes=(10,6))\n",
    "\n",
    "clf.fit(x_train, y_train)\n",
    "y_pred = clf.predict(x_test)\n",
    "\n",
    "unbalance_pred = accuracy_score(y_test, y_pred)"
   ]
  },
  {
   "cell_type": "code",
   "execution_count": 29,
   "metadata": {},
   "outputs": [
    {
     "data": {
      "image/png": "[encoded data removed]",
      "text/plain": [
       "<Figure size 576x576 with 1 Axes>"
      ]
     },
     "metadata": {},
     "output_type": "display_data"
    }
   ],
   "source": [
    "# faz o plot de desempenho dos classificadores\n",
    "clfs_names = [\"Original Prob\", \"Perfect Prob\", \"Unbalance Prob\"]\n",
    "\n",
    "plt.figure(figsize=(8,8))\n",
    "plt.bar(range(1, 4), [normal_pred, equal_pred, unbalance_pred])\n",
    "plt.xticks(range(1, 4), clfs_names, rotation=45)\n",
    "title = \"Desempenho da MLP dadas diferentes probabilidades - acurácia\"\n",
    "plt.title(title)\n",
    "plt.show()\n"
   ]
  },
  {
   "cell_type": "code",
   "execution_count": null,
   "metadata": {},
   "outputs": [],
   "source": []
  }
 ],
 "metadata": {
  "celltoolbar": "Hide code",
  "hide_code_all_hidden": true,
  "kernelspec": {
   "display_name": "Python 3",
   "language": "python",
   "name": "python3"
  },
  "language_info": {
   "codemirror_mode": {
    "name": "ipython",
    "version": 3
   },
   "file_extension": ".py",
   "mimetype": "text/x-python",
   "name": "python",
   "nbconvert_exporter": "python",
   "pygments_lexer": "ipython3",
   "version": "3.6.5"
  }
 },
 "nbformat": 4,
 "nbformat_minor": 2
}
